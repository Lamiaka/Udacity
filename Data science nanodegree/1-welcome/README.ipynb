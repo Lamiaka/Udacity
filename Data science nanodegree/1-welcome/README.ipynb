{
 "cells": [
  {
   "cell_type": "markdown",
   "metadata": {
    "collapsed": true
   },
   "source": [
    "# Data Scientist Nanodegree\n",
    "# Supervised Learning\n",
    "## Project: Finding Donors for CharityML\n",
    "\n",
    "### Install"
   ]
  },
  {
   "cell_type": "markdown",
   "metadata": {},
   "source": [
    "This project requires **Python 3.x** and the following Python libraries installed:\n",
    "\n",
    "- [NumPy](http://www.numpy.org/)\n",
    "- [Pandas](http://pandas.pydata.org)\n",
    "- [matplotlib](http://matplotlib.org/)\n",
    "- [scikit-learn](http://scikit-learn.org/stable/)\n",
    "\n",
    "You will also need to have software installed to run and execute an [iPython Notebook](http://ipython.org/notebook.html)\n",
    "\n",
    "We recommend students install [Anaconda](https://www.continuum.io/downloads), a pre-packaged Python distribution that contains all of the necessary libraries and software for this project."
   ]
  },
  {
   "cell_type": "markdown",
   "metadata": {},
   "source": [
    "### Code\n",
    "\n",
    "Template code is provided in the `finding_donors.ipynb` notebook file. You will also be required to use the included `visuals.py` Python file and the `census.csv` dataset file to complete your work. While some code has already been implemented to get you started, you will need to implement additional functionality when requested to successfully complete the project. Note that the code included in `visuals.py` is meant to be used out-of-the-box and not intended for students to manipulate. If you are interested in how the visualizations are created in the notebook, please feel free to explore this Python file.\n",
    "\n",
    "### Run\n",
    "\n",
    "In a terminal or command window, navigate to the top-level project directory `finding_donors/` (that contains this README) and run one of the following commands:\n",
    "\n",
    "```bash\n",
    "ipython notebook finding_donors.ipynb\n",
    "```  \n",
    "or\n",
    "```bash\n",
    "jupyter notebook finding_donors.ipynb\n",
    "```\n",
    "\n",
    "This will open the iPython Notebook software and project file in your browser.\n",
    "\n",
    "### Data\n",
    "\n",
    "The modified census dataset consists of approximately 32,000 data points, with each datapoint having 13 features. This dataset is a modified version of the dataset published in the paper *\"Scaling Up the Accuracy of Naive-Bayes Classifiers: a Decision-Tree Hybrid\",* by Ron Kohavi. You may find this paper [online](https://www.aaai.org/Papers/KDD/1996/KDD96-033.pdf), with the original dataset hosted on [UCI](https://archive.ics.uci.edu/ml/datasets/Census+Income).\n",
    "\n",
    "**Features**\n",
    "- `age`: Age\n",
    "- `workclass`: Working Class (Private, Self-emp-not-inc, Self-emp-inc, Federal-gov, Local-gov, State-gov, Without-pay, Never-worked)\n",
    "- `education_level`: Level of Education (Bachelors, Some-college, 11th, HS-grad, Prof-school, Assoc-acdm, Assoc-voc, 9th, 7th-8th, 12th, Masters, 1st-4th, 10th, Doctorate, 5th-6th, Preschool)\n",
    "- `education-num`: Number of educational years completed\n",
    "- `marital-status`: Marital status (Married-civ-spouse, Divorced, Never-married, Separated, Widowed, Married-spouse-absent, Married-AF-spouse)\n",
    "- `occupation`: Work Occupation (Tech-support, Craft-repair, Other-service, Sales, Exec-managerial, Prof-specialty, Handlers-cleaners, Machine-op-inspct, Adm-clerical, Farming-fishing, Transport-moving, Priv-house-serv, Protective-serv, Armed-Forces)\n",
    "- `relationship`: Relationship Status (Wife, Own-child, Husband, Not-in-family, Other-relative, Unmarried)\n",
    "- `race`: Race (White, Asian-Pac-Islander, Amer-Indian-Eskimo, Other, Black)\n",
    "- `sex`: Sex (Female, Male)\n",
    "- `capital-gain`: Monetary Capital Gains\n",
    "- `capital-loss`: Monetary Capital Losses\n",
    "- `hours-per-week`: Average Hours Per Week Worked\n",
    "- `native-country`: Native Country (United-States, Cambodia, England, Puerto-Rico, Canada, Germany, Outlying-US(Guam-USVI-etc), India, Japan, Greece, South, China, Cuba, Iran, Honduras, Philippines, Italy, Poland, Jamaica, Vietnam, Mexico, Portugal, Ireland, France, Dominican-Republic, Laos, Ecuador, Taiwan, Haiti, Columbia, Hungary, Guatemala, Nicaragua, Scotland, Thailand, Yugoslavia, El-Salvador, Trinadad&Tobago, Peru, Hong, Holand-Netherlands)\n",
    "\n",
    "**Target Variable**\n",
    "- `income`: Income Class (<=50K, >50K)"
   ]
  },
  {
   "cell_type": "code",
   "execution_count": null,
   "metadata": {},
   "outputs": [],
   "source": []
  }
 ],
 "metadata": {
  "kernelspec": {
   "display_name": "Python 3",
   "language": "python",
   "name": "python3"
  },
  "language_info": {
   "codemirror_mode": {
    "name": "ipython",
    "version": 3
   },
   "file_extension": ".py",
   "mimetype": "text/x-python",
   "name": "python",
   "nbconvert_exporter": "python",
   "pygments_lexer": "ipython3",
   "version": "3.7.0"
  }
 },
 "nbformat": 4,
 "nbformat_minor": 1
}
