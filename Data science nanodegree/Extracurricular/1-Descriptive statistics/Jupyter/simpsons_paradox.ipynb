{
 "cells": [
  {
   "cell_type": "markdown",
   "metadata": {
    "collapsed": true
   },
   "source": [
    "# Simpson's Paradox\n",
    "Use `admission_data.csv` for this exercise."
   ]
  },
  {
   "cell_type": "code",
   "execution_count": 2,
   "metadata": {},
   "outputs": [
    {
     "data": {
      "text/html": [
       "<div>\n",
       "<style>\n",
       "    .dataframe thead tr:only-child th {\n",
       "        text-align: right;\n",
       "    }\n",
       "\n",
       "    .dataframe thead th {\n",
       "        text-align: left;\n",
       "    }\n",
       "\n",
       "    .dataframe tbody tr th {\n",
       "        vertical-align: top;\n",
       "    }\n",
       "</style>\n",
       "<table border=\"1\" class=\"dataframe\">\n",
       "  <thead>\n",
       "    <tr style=\"text-align: right;\">\n",
       "      <th></th>\n",
       "      <th>student_id</th>\n",
       "      <th>gender</th>\n",
       "      <th>major</th>\n",
       "      <th>admitted</th>\n",
       "    </tr>\n",
       "  </thead>\n",
       "  <tbody>\n",
       "    <tr>\n",
       "      <th>0</th>\n",
       "      <td>35377</td>\n",
       "      <td>female</td>\n",
       "      <td>Chemistry</td>\n",
       "      <td>False</td>\n",
       "    </tr>\n",
       "  </tbody>\n",
       "</table>\n",
       "</div>"
      ],
      "text/plain": [
       "   student_id  gender      major  admitted\n",
       "0       35377  female  Chemistry     False"
      ]
     },
     "execution_count": 2,
     "metadata": {},
     "output_type": "execute_result"
    }
   ],
   "source": [
    "# Load and view first few lines of dataset\n",
    "import pandas as pd \n",
    "data = pd.read_csv('admission_data.csv')\n",
    "data.head(1)"
   ]
  },
  {
   "cell_type": "markdown",
   "metadata": {},
   "source": [
    "### Proportion and admission rate for each gender"
   ]
  },
  {
   "cell_type": "code",
   "execution_count": 18,
   "metadata": {},
   "outputs": [
    {
     "name": "stdout",
     "output_type": "stream",
     "text": [
      "The proportion of students that are female is 51.4%\n"
     ]
    }
   ],
   "source": [
    "# Proportion of students that are female\n",
    "Summary = data.groupby(by='gender').count()\n",
    "femaleNumber = Summary.loc['female']['student_id']\n",
    "TotalNumber = Summary.student_id.sum()\n",
    "female_pcnt = femaleNumber/TotalNumber * 100\n",
    "print('The proportion of students that are female is {}%'.format(female_pcnt))"
   ]
  },
  {
   "cell_type": "code",
   "execution_count": 19,
   "metadata": {},
   "outputs": [
    {
     "name": "stdout",
     "output_type": "stream",
     "text": [
      "The proportion of students that are male is 48.6%\n"
     ]
    }
   ],
   "source": [
    "# Proportion of students that are male\n",
    "maleNumber = Summary.loc['male']['student_id']\n",
    "male_pcnt = maleNumber/TotalNumber *100\n",
    "print('The proportion of students that are male is {}%'.format(male_pcnt))"
   ]
  },
  {
   "cell_type": "code",
   "execution_count": 78,
   "metadata": {},
   "outputs": [
    {
     "name": "stdout",
     "output_type": "stream",
     "text": [
      "The female admission rate is 28.8%\n"
     ]
    }
   ],
   "source": [
    "\n",
    "# Admission rate for females\n",
    "\n",
    "Female_admitted = data[(data['gender'] == 'female') & (data['admitted'] == True)].student_id.count()\n",
    "\n",
    "Admission_rate_female = Female_admitted/femaleNumber * 100\n",
    "\n",
    "print('The female admission rate is {:3.1f}%'.format(Admission_rate_female))\n"
   ]
  },
  {
   "cell_type": "code",
   "execution_count": 82,
   "metadata": {},
   "outputs": [
    {
     "name": "stdout",
     "output_type": "stream",
     "text": [
      "The male admission rate is 48.6%\n"
     ]
    }
   ],
   "source": [
    "\n",
    "# Admission rate for males\n",
    "\n",
    "Male_admitted = data[(data['gender']=='male')&(data['admitted']==True)].student_id.count()\n",
    "\n",
    "Admission_rate_male = Male_admitted/maleNumber * 100\n",
    "\n",
    "print('The male admission rate is {:3.1f}%'.format(Admission_rate_male))"
   ]
  },
  {
   "cell_type": "markdown",
   "metadata": {},
   "source": [
    "### Proportion and admission rate for physics majors of each gender"
   ]
  },
  {
   "cell_type": "code",
   "execution_count": 95,
   "metadata": {},
   "outputs": [
    {
     "name": "stdout",
     "output_type": "stream",
     "text": [
      "The proportion of female students majoring in Physics is 12.1%.\n"
     ]
    }
   ],
   "source": [
    "# What proportion of female students are majoring in physics?\n",
    "female_physics_major = data[(data['gender']=='female') & (data['major']=='Physics')].student_id.count()\n",
    "femaleMajorPhysicsProportion = female_physics_major/femaleNumber*100\n",
    "print('The proportion of female students majoring in Physics is {:3.1f}%.'.format(femaleMajorPhysicsProportion))"
   ]
  },
  {
   "cell_type": "code",
   "execution_count": 96,
   "metadata": {},
   "outputs": [
    {
     "name": "stdout",
     "output_type": "stream",
     "text": [
      "The proportion of male students majoring in Physics is 92.6%.\n"
     ]
    }
   ],
   "source": [
    "# What proportion of male students are majoring in physics?\n",
    "male_major_physics = data[(data['gender']=='male') & (data['major'] == 'Physics')].student_id.count()\n",
    "maleMajorPhysicsProposrtion = male_major_physics/maleNumber*100\n",
    "print('The proportion of male students majoring in Physics is {:3.1f}%.'.format(maleMajorPhysicsProposrtion))"
   ]
  },
  {
   "cell_type": "code",
   "execution_count": 97,
   "metadata": {},
   "outputs": [
    {
     "name": "stdout",
     "output_type": "stream",
     "text": [
      "The admission rate of female students majoring in Physics is 74.2%.\n"
     ]
    }
   ],
   "source": [
    "# Admission rate for female physics majors\n",
    "female_major_physics_admitted = data[(data['gender']=='female') & (data['major']=='Physics') & (data['admitted']==True)].student_id.count() \n",
    "femaleMajorPhysicsAdmissionRate = female_major_physics_admitted/female_physics_major*100\n",
    "print('The admission rate of female students majoring in Physics is {:3.1f}%.'.format(femaleMajorPhysicsAdmissionRate))"
   ]
  },
  {
   "cell_type": "code",
   "execution_count": 98,
   "metadata": {},
   "outputs": [
    {
     "name": "stdout",
     "output_type": "stream",
     "text": [
      "The admission rate of male students majoring in Physics is 51.6%.\n"
     ]
    }
   ],
   "source": [
    "# Admission rate for male physics majors\n",
    "male_major_physics_admitted = data[(data['gender']=='male') & (data['major']=='Physics') & (data['admitted']==True)].student_id.count() \n",
    "maleMajorPhysicsAdmissionRate = male_major_physics_admitted/male_major_physics*100\n",
    "print('The admission rate of male students majoring in Physics is {:3.1f}%.'.format(maleMajorPhysicsAdmissionRate))"
   ]
  },
  {
   "cell_type": "markdown",
   "metadata": {},
   "source": [
    "### Proportion and admission rate for chemistry majors of each gender"
   ]
  },
  {
   "cell_type": "code",
   "execution_count": 99,
   "metadata": {},
   "outputs": [
    {
     "name": "stdout",
     "output_type": "stream",
     "text": [
      "The proportion of female students majoring in Chemistry is 87.9%.\n"
     ]
    }
   ],
   "source": [
    "# What proportion of female students are majoring in chemistry?\n",
    "female_chemistry_major = data[(data['gender']=='female') & (data['major']=='Chemistry')].student_id.count()\n",
    "femaleMajorChemistryProportion = female_chemistry_major/femaleNumber*100\n",
    "print('The proportion of female students majoring in Chemistry is {:3.1f}%.'.format(femaleMajorChemistryProportion))"
   ]
  },
  {
   "cell_type": "code",
   "execution_count": 100,
   "metadata": {},
   "outputs": [
    {
     "name": "stdout",
     "output_type": "stream",
     "text": [
      "The proportion of male students majoring in Chemistry is 7.4%.\n"
     ]
    }
   ],
   "source": [
    "# What proportion of male students are majoring in chemistry?\n",
    "male_chemistry_major = data[(data['gender']=='male') & (data['major']=='Chemistry')].student_id.count()\n",
    "maleMajorChemistryProportion = male_chemistry_major/maleNumber*100\n",
    "print('The proportion of male students majoring in Chemistry is {:3.1f}%.'.format(maleMajorChemistryProportion))"
   ]
  },
  {
   "cell_type": "code",
   "execution_count": 102,
   "metadata": {},
   "outputs": [
    {
     "name": "stdout",
     "output_type": "stream",
     "text": [
      "The admission rate of female students majoring in Chemistry is 22.6%.\n"
     ]
    }
   ],
   "source": [
    "# Admission rate for female chemistry majors\n",
    "female_major_chemistry_admitted = data[(data['gender']=='female') & (data['major']=='Chemistry') & (data['admitted']==True)].student_id.count() \n",
    "femaleMajorChemistryAdmissionRate = female_major_chemistry_admitted/female_chemistry_major*100\n",
    "print('The admission rate of female students majoring in Chemistry is {:3.1f}%.'.format(femaleMajorChemistryAdmissionRate))"
   ]
  },
  {
   "cell_type": "code",
   "execution_count": 103,
   "metadata": {},
   "outputs": [
    {
     "name": "stdout",
     "output_type": "stream",
     "text": [
      "The admission rate of male students majoring in Chemistry is 11.1%.\n"
     ]
    }
   ],
   "source": [
    "# Admission rate for male chemistry majors\n",
    "male_major_chemistry_admitted = data[(data['gender']=='male') & (data['major']=='Chemistry') & (data['admitted']==True)].student_id.count() \n",
    "maleMajorChemistryAdmissionRate = male_major_chemistry_admitted/male_chemistry_major*100\n",
    "print('The admission rate of male students majoring in Chemistry is {:3.1f}%.'.format(maleMajorChemistryAdmissionRate))"
   ]
  },
  {
   "cell_type": "markdown",
   "metadata": {},
   "source": [
    "### Admission rate for each major"
   ]
  },
  {
   "cell_type": "code",
   "execution_count": 104,
   "metadata": {},
   "outputs": [
    {
     "name": "stdout",
     "output_type": "stream",
     "text": [
      "The admission rate of students majoring in Physics is 54.3%.\n"
     ]
    }
   ],
   "source": [
    "# Admission rate for physics majors\n",
    "major_physics_admitted = data[(data['major']=='Physics') & (data['admitted']==True)].student_id.count() \n",
    "physics_major = data[data['major']=='Physics'].student_id.count()\n",
    "MajorPhysicsAdmissionRate = major_physics_admitted/physics_major*100\n",
    "print('The admission rate of students majoring in Physics is {:3.1f}%.'.format(MajorPhysicsAdmissionRate))"
   ]
  },
  {
   "cell_type": "code",
   "execution_count": 107,
   "metadata": {},
   "outputs": [
    {
     "name": "stdout",
     "output_type": "stream",
     "text": [
      "The admission rate of students majoring in Chemistry is 21.7%.\n"
     ]
    }
   ],
   "source": [
    "# Admission rate for chemistry majors\n",
    "major_chemistry_admitted = data[(data['major']=='Chemistry') & (data['admitted']==True)].student_id.count() \n",
    "chemistry_major = data[data['major']=='Chemistry'].student_id.count()\n",
    "MajorChemistryAdmissionRate = major_chemistry_admitted/chemistry_major*100\n",
    "print('The admission rate of students majoring in Chemistry is {:3.1f}%.'.format(MajorChemistryAdmissionRate))"
   ]
  },
  {
   "cell_type": "code",
   "execution_count": null,
   "metadata": {},
   "outputs": [],
   "source": []
  }
 ],
 "metadata": {
  "kernelspec": {
   "display_name": "Python 3",
   "language": "python",
   "name": "python3"
  },
  "language_info": {
   "codemirror_mode": {
    "name": "ipython",
    "version": 3
   },
   "file_extension": ".py",
   "mimetype": "text/x-python",
   "name": "python",
   "nbconvert_exporter": "python",
   "pygments_lexer": "ipython3",
   "version": "3.6.3"
  }
 },
 "nbformat": 4,
 "nbformat_minor": 2
}
