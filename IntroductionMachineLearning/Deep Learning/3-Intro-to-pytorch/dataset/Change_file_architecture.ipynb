{
 "cells": [
  {
   "cell_type": "code",
   "execution_count": 31,
   "metadata": {},
   "outputs": [],
   "source": [
    "import glob\n",
    "import os \n",
    "import shutil\n",
    "\n",
    "curdir = os.getcwd()\n",
    "traindir = os.path.join(curdir,'train/')\n",
    "\n",
    "dogfiles = glob.glob(traindir+'dog*')\n",
    "catfiles = glob.glob(traindir+'cat*')\n",
    "\n",
    "dogPath = os.path.join(curdir,'train1/dog/')\n",
    "catPath = os.path.join(curdir,'train1/cat/')\n",
    "\n",
    "for f in catfiles:\n",
    "    imgName = f.split('cat.')[1]\n",
    "    fileDestination = os.path.join(catPath,imgName)\n",
    "    shutil.move(f,fileDestination)\n",
    "    \n",
    "for f in dogfiles:\n",
    "    imgName = f.split('dog.')[1]\n",
    "    fileDestination = os.path.join(dogPath,imgName)\n",
    "    shutil.move(f,fileDestination)"
   ]
  },
  {
   "cell_type": "code",
   "execution_count": 38,
   "metadata": {},
   "outputs": [],
   "source": [
    "dogfilesCheck = glob.glob(catPath+'*.jpg')"
   ]
  },
  {
   "cell_type": "code",
   "execution_count": null,
   "metadata": {},
   "outputs": [],
   "source": [
    "len(dogfilesCheck)"
   ]
  },
  {
   "cell_type": "code",
   "execution_count": null,
   "metadata": {},
   "outputs": [],
   "source": [
    "len(catfiles)"
   ]
  },
  {
   "cell_type": "markdown",
   "metadata": {},
   "source": [
    "# Moving a random sample from train to test for validation "
   ]
  },
  {
   "cell_type": "code",
   "execution_count": 79,
   "metadata": {},
   "outputs": [],
   "source": [
    "import random\n",
    "import numpy as np\n",
    "random.seed(42)\n",
    "curdir = os.getcwd()\n",
    "traindir = os.path.join(curdir,'train')\n",
    "\n",
    "dogfiles = glob.glob(traindir+'/dog/*')\n",
    "catfiles = glob.glob(traindir+'/cat/*')\n",
    "\n",
    "dogPath = os.path.join(curdir,'test/dog/')\n",
    "catPath = os.path.join(curdir,'test/cat/')\n",
    "\n",
    "ndog = np.floor(0.2 * len(dogfiles)).astype(int)\n",
    "ncat = np.floor(0.2 * len(catfiles)).astype(int)\n",
    "\n",
    "dogSample = random.sample(dogfiles, ndog)\n",
    "catSample = random.sample(catfiles, ncat)"
   ]
  },
  {
   "cell_type": "code",
   "execution_count": 80,
   "metadata": {},
   "outputs": [
    {
     "data": {
      "text/plain": [
       "'/Users/lamiakasmi/Documents/Courses/Udacity/IntroductionMachineLearning/Deep Learning/3-Intro-to-pytorch/dataset/train/dog/7583.jpg'"
      ]
     },
     "execution_count": 80,
     "metadata": {},
     "output_type": "execute_result"
    }
   ],
   "source": [
    "dogSample[0]"
   ]
  },
  {
   "cell_type": "code",
   "execution_count": null,
   "metadata": {},
   "outputs": [],
   "source": [
    "for f in dogSample:\n",
    "    imgName = f.split('dog/')[1]\n",
    "    fileDestination = os.path.join(dogPath,imgName)\n",
    "    shutil.move(f,fileDestination)"
   ]
  },
  {
   "cell_type": "code",
   "execution_count": 91,
   "metadata": {},
   "outputs": [],
   "source": [
    "for f in catSample:\n",
    "    imgName = f.split('cat/')[1]\n",
    "    fileDestination = os.path.join(catPath,imgName)\n",
    "    shutil.move(f,fileDestination)"
   ]
  },
  {
   "cell_type": "code",
   "execution_count": 88,
   "metadata": {},
   "outputs": [
    {
     "data": {
      "text/plain": [
       "'/Users/lamiakasmi/Documents/Courses/Udacity/IntroductionMachineLearning/Deep Learning/3-Intro-to-pytorch/dataset/test1/dog/7583.jpg'"
      ]
     },
     "execution_count": 88,
     "metadata": {},
     "output_type": "execute_result"
    }
   ],
   "source": [
    "fileDestination"
   ]
  },
  {
   "cell_type": "code",
   "execution_count": null,
   "metadata": {},
   "outputs": [],
   "source": []
  }
 ],
 "metadata": {
  "kernelspec": {
   "display_name": "Python 3",
   "language": "python",
   "name": "python3"
  },
  "language_info": {
   "codemirror_mode": {
    "name": "ipython",
    "version": 3
   },
   "file_extension": ".py",
   "mimetype": "text/x-python",
   "name": "python",
   "nbconvert_exporter": "python",
   "pygments_lexer": "ipython3",
   "version": "3.7.2"
  }
 },
 "nbformat": 4,
 "nbformat_minor": 2
}
