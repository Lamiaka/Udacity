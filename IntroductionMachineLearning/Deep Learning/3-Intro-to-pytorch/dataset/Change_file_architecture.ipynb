{
 "cells": [
  {
   "cell_type": "code",
   "execution_count": 31,
   "metadata": {},
   "outputs": [],
   "source": [
    "import glob\n",
    "import os \n",
    "import shutil\n",
    "\n",
    "curdir = os.getcwd()\n",
    "traindir = os.path.join(curdir,'train/')\n",
    "\n",
    "dogfiles = glob.glob(traindir+'dog*')\n",
    "catfiles = glob.glob(traindir+'cat*')\n",
    "\n",
    "dogPath = os.path.join(curdir,'train1/dog/')\n",
    "catPath = os.path.join(curdir,'train1/cat/')\n",
    "\n",
    "for f in catfiles:\n",
    "    imgName = f.split('cat.')[1]\n",
    "    fileDestination = os.path.join(catPath,imgName)\n",
    "    shutil.move(f,fileDestination)\n",
    "    \n",
    "for f in dogfiles:\n",
    "    imgName = f.split('dog.')[1]\n",
    "    fileDestination = os.path.join(dogPath,imgName)\n",
    "    shutil.move(f,fileDestination)"
   ]
  },
  {
   "cell_type": "code",
   "execution_count": 38,
   "metadata": {},
   "outputs": [],
   "source": [
    "dogfilesCheck = glob.glob(catPath+'*.jpg')"
   ]
  },
  {
   "cell_type": "code",
   "execution_count": null,
   "metadata": {},
   "outputs": [],
   "source": [
    "len(dogfilesCheck)"
   ]
  },
  {
   "cell_type": "code",
   "execution_count": null,
   "metadata": {},
   "outputs": [],
   "source": [
    "len(catfiles)"
   ]
  }
 ],
 "metadata": {
  "kernelspec": {
   "display_name": "Python 3",
   "language": "python",
   "name": "python3"
  },
  "language_info": {
   "codemirror_mode": {
    "name": "ipython",
    "version": 3
   },
   "file_extension": ".py",
   "mimetype": "text/x-python",
   "name": "python",
   "nbconvert_exporter": "python",
   "pygments_lexer": "ipython3",
   "version": "3.7.2"
  }
 },
 "nbformat": 4,
 "nbformat_minor": 2
}
